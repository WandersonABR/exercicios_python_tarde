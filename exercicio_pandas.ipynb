{
 "cells": [
  {
   "cell_type": "markdown",
   "metadata": {},
   "source": [
    "# Competências Pandas\n",
    "\n",
    "- Entender as funções básicas;\n",
    "- Utilizar as funções básicas;\n",
    "- Renomear colunas;\n",
    "- Selecionar colunas e linhas;\n",
    "- Adicionar e remover colunas;\n",
    "- Realizar consultas;\n",
    "- Ordenar itens;\n",
    "- Ordenar e concatenar DataFrames;\n",
    "- Salvar DataFrames."
   ]
  },
  {
   "cell_type": "markdown",
   "metadata": {},
   "source": [
    "### Entender as funções básicas"
   ]
  },
  {
   "cell_type": "markdown",
   "metadata": {},
   "source": [
    "- head() - retorna as primeiras n linhas de um DataFrame;\n",
    "- tail() - retorna as útimas n linhas de um DataFrame;\n",
    "- shape - retorna o número de linhas e colunas;\n",
    "- info() - número de colunas, contagem de células, tipo e memória usada;\n",
    "- columns - mostra todas as colunas;\n",
    "- count() - conta as células preenchidas;\n",
    "- describe() - retorna medidas estatísticas sobre as colunas (média, precentis, desvio padrão, precentis 50%-mediana);"
   ]
  },
  {
   "cell_type": "code",
   "execution_count": 10,
   "metadata": {},
   "outputs": [
    {
     "data": {
      "text/html": [
       "<div>\n",
       "<style scoped>\n",
       "    .dataframe tbody tr th:only-of-type {\n",
       "        vertical-align: middle;\n",
       "    }\n",
       "\n",
       "    .dataframe tbody tr th {\n",
       "        vertical-align: top;\n",
       "    }\n",
       "\n",
       "    .dataframe thead th {\n",
       "        text-align: right;\n",
       "    }\n",
       "</style>\n",
       "<table border=\"1\" class=\"dataframe\">\n",
       "  <thead>\n",
       "    <tr style=\"text-align: right;\">\n",
       "      <th></th>\n",
       "      <th>data</th>\n",
       "      <th>hora</th>\n",
       "      <th>gasto</th>\n",
       "      <th>descri��o</th>\n",
       "      <th>tipo</th>\n",
       "    </tr>\n",
       "  </thead>\n",
       "  <tbody>\n",
       "    <tr>\n",
       "      <th>0</th>\n",
       "      <td>25/07/2024</td>\n",
       "      <td>17:20</td>\n",
       "      <td>10</td>\n",
       "      <td>cachorro quente</td>\n",
       "      <td>alimenta��o</td>\n",
       "    </tr>\n",
       "    <tr>\n",
       "      <th>1</th>\n",
       "      <td>24/07/2024</td>\n",
       "      <td>16:00</td>\n",
       "      <td>15</td>\n",
       "      <td>energ�tico</td>\n",
       "      <td>alimenta��o</td>\n",
       "    </tr>\n",
       "    <tr>\n",
       "      <th>2</th>\n",
       "      <td>24/07/2024</td>\n",
       "      <td>07:20</td>\n",
       "      <td>11</td>\n",
       "      <td>lanche escolar</td>\n",
       "      <td>alimenta��o</td>\n",
       "    </tr>\n",
       "    <tr>\n",
       "      <th>3</th>\n",
       "      <td>25/07/2024</td>\n",
       "      <td>19:00</td>\n",
       "      <td>150</td>\n",
       "      <td>mause game</td>\n",
       "      <td>inform�tica</td>\n",
       "    </tr>\n",
       "    <tr>\n",
       "      <th>4</th>\n",
       "      <td>24/07/2024</td>\n",
       "      <td>22:00</td>\n",
       "      <td>250</td>\n",
       "      <td>cinemark</td>\n",
       "      <td>lazer</td>\n",
       "    </tr>\n",
       "  </tbody>\n",
       "</table>\n",
       "</div>"
      ],
      "text/plain": [
       "         data   hora  gasto        descri��o         tipo\n",
       "0  25/07/2024  17:20     10  cachorro quente  alimenta��o\n",
       "1  24/07/2024  16:00     15       energ�tico  alimenta��o\n",
       "2  24/07/2024  07:20     11   lanche escolar  alimenta��o\n",
       "3  25/07/2024  19:00    150       mause game  inform�tica\n",
       "4  24/07/2024  22:00    250         cinemark        lazer"
      ]
     },
     "execution_count": 10,
     "metadata": {},
     "output_type": "execute_result"
    }
   ],
   "source": [
    "import pandas as pd\n",
    "\n",
    "url = \"dataset/controlegastos.csv\"\n",
    "df = pd.read_csv(url, sep=\";\")\n",
    "df"
   ]
  }
 ],
 "metadata": {
  "kernelspec": {
   "display_name": ".venv",
   "language": "python",
   "name": "python3"
  },
  "language_info": {
   "codemirror_mode": {
    "name": "ipython",
    "version": 3
   },
   "file_extension": ".py",
   "mimetype": "text/x-python",
   "name": "python",
   "nbconvert_exporter": "python",
   "pygments_lexer": "ipython3",
   "version": "3.12.4"
  }
 },
 "nbformat": 4,
 "nbformat_minor": 2
}

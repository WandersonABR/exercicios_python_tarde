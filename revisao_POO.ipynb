{
 "cells": [
  {
   "cell_type": "markdown",
   "metadata": {},
   "source": [
    "# Reisão POO"
   ]
  },
  {
   "cell_type": "markdown",
   "metadata": {},
   "source": [
    "Criar uma classe que ajude no controle financeiro.\n",
    "Os atributos são:\n",
    " - descricao\n",
    " - valor\n",
    " - categoria"
   ]
  },
  {
   "cell_type": "code",
   "execution_count": 2,
   "metadata": {},
   "outputs": [],
   "source": [
    "class controleFinanceiro:\n",
    "    # Construtor da classe\n",
    "    def __init__(self, descricao, valor, categoria):\n",
    "        self.descricao = descricao\n",
    "        self.valor = valor\n",
    "        self.categoria = categoria\n",
    "\n",
    "    def verificar_valor(self):\n",
    "        if self.valor > 3000:\n",
    "            return \"alerta cartão!\"\n",
    "        else: \n",
    "            return \"faça sua compra!\"\n",
    "    \n",
    "    "
   ]
  },
  {
   "cell_type": "code",
   "execution_count": 3,
   "metadata": {},
   "outputs": [
    {
     "name": "stdout",
     "output_type": "stream",
     "text": [
      " Resultado: faça sua compra! - Categoria: lazer\n"
     ]
    }
   ],
   "source": [
    "cf = controleFinanceiro(\"cinemark familiar\", 180.25, \"lazer\")\n",
    "print(f' Resultado: {cf.verificar_valor()} - Categoria: {cf.categoria}')\n"
   ]
  },
  {
   "cell_type": "markdown",
   "metadata": {},
   "source": [
    "# Desafio\n",
    "- Criar uma classe com o nome Matematica;\n",
    "- Criar um construtor com dois atributos com os nomes x e y;\n",
    "- Criar um método pra somar x e y;\n",
    "- Criar um método pra dividir x e y;\n",
    "- Criar um método pra calcular a média aritmética de x e y;\n",
    "- Criar um método pra calcular média ponderada com peso 1 e 2."
   ]
  },
  {
   "cell_type": "code",
   "execution_count": 30,
   "metadata": {},
   "outputs": [],
   "source": [
    "class Matematica:\n",
    "    def __init__(self, x, y):\n",
    "        self.x = x\n",
    "        self.y = y\n",
    "    \n",
    "    def somar(self):\n",
    "        return self.x + self.y\n",
    "    \n",
    "    def subtrair(self):\n",
    "        return self.x - self.y\n",
    "    \n",
    "    def dividir(self):\n",
    "        return (\"Não pode ser dividido por zero\" if self.y == 0 else self.x / self.y)\n",
    "        \n",
    "    def media(self):\n",
    "        return ((self.x + self.y) / 2)\n",
    "    \n",
    "    def media_ponderada(self):\n",
    "        return ((self.x * 1) + (self.y * 2)) / 3\n",
    "    "
   ]
  },
  {
   "cell_type": "code",
   "execution_count": 31,
   "metadata": {},
   "outputs": [
    {
     "name": "stdout",
     "output_type": "stream",
     "text": [
      "Soma: 30 | Divisão: 0.5 | Subtrair: -10 | Média: 15.0 | Média ponderada: 16.666666666666668\n"
     ]
    }
   ],
   "source": [
    "num1 = input(\"Digite o primeiro número: \")\n",
    "num1 = int(num1)\n",
    "num2 = input(\"Digite o primeiro número: \")\n",
    "num2 = int(num2)\n",
    "mt = Matematica(num1, num2)\n",
    "\n",
    "print(f'Soma: {mt.somar()} | Divisão: {mt.dividir()} | Subtrair: {mt.subtrair()} | Média: {mt.media()} | Média ponderada: {mt.media_ponderada()}')\n"
   ]
  }
 ],
 "metadata": {
  "kernelspec": {
   "display_name": ".venv",
   "language": "python",
   "name": "python3"
  },
  "language_info": {
   "codemirror_mode": {
    "name": "ipython",
    "version": 3
   },
   "file_extension": ".py",
   "mimetype": "text/x-python",
   "name": "python",
   "nbconvert_exporter": "python",
   "pygments_lexer": "ipython3",
   "version": "3.12.4"
  }
 },
 "nbformat": 4,
 "nbformat_minor": 2
}
